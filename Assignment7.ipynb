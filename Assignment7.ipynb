{
 "cells": [
  {
   "attachments": {},
   "cell_type": "markdown",
   "metadata": {},
   "source": [
    "# These are answers to the given questions."
   ]
  },
  {
   "attachments": {},
   "cell_type": "markdown",
   "metadata": {},
   "source": [
    "# Question 1\n",
    "Python has a built-in module for doing regex operation\n",
    "\n",
    "import re\n"
   ]
  },
  {
   "attachments": {},
   "cell_type": "markdown",
   "metadata": {},
   "source": [
    "# Question 2\n",
    "Raw strings often appear in regex operations is to avoid to escape special characters."
   ]
  },
  {
   "attachments": {},
   "cell_type": "markdown",
   "metadata": {},
   "source": [
    "# Question 3\n",
    "search() method in \"re\" module returns object if there's match anywhere in the string.\n"
   ]
  },
  {
   "attachments": {},
   "cell_type": "markdown",
   "metadata": {},
   "source": [
    "# Question 4\n",
    "To get the actual strings that match the pattern is by using the \"re.findall()\" function.\n",
    "\n",
    "re.findall() takes pattern and our string/text as arguments."
   ]
  },
  {
   "attachments": {},
   "cell_type": "markdown",
   "metadata": {},
   "source": [
    "# Question 5\n",
    "\n",
    "r\"(\\d\\d\\d)-(\\d\\d\\d-\\d\\d\\d\\d)\"\n",
    "\n",
    "The whole match is considered as group 0. first set (\\d\\d\\d) is group 1 & second set (\\d\\d\\d-\\d\\d\\d\\d) is group 2.\n",
    "\n",
    "This pattern ,group 0 covers the entire match = \"aaa-aaa-aaaa\"."
   ]
  },
  {
   "attachments": {},
   "cell_type": "markdown",
   "metadata": {},
   "source": [
    "# Question 6\n",
    "\n",
    "To find the real parenthesis and period, we have to escape them with back slash (\\).\n",
    "\n",
    "example : \\(iNeuron\\)"
   ]
  },
  {
   "attachments": {},
   "cell_type": "markdown",
   "metadata": {},
   "source": [
    "# Question 7\n",
    "\n",
    "re.findall() returns list of strings if the pattern has no groups, and returns list of string tuples if the pattern has groups \"()\"."
   ]
  },
  {
   "attachments": {},
   "cell_type": "markdown",
   "metadata": {},
   "source": [
    "# Question 8\n",
    "\n",
    "\"|\" character is alternation operator. It is used to match two or more alternative patterns with in the single pattern. It also acts as \"or\" when used inside a group."
   ]
  },
  {
   "attachments": {},
   "cell_type": "markdown",
   "metadata": {},
   "source": [
    "# Question 9\n",
    "\n",
    "In regular expressions, what does the character stand for?"
   ]
  },
  {
   "attachments": {},
   "cell_type": "markdown",
   "metadata": {},
   "source": [
    "# Question 10\n",
    "'+' and '*' are generally used to find the repetitions in the pattern. For example :\n",
    "\n",
    "\\d+ pattern will match one or more consecutive digits in the string.\n",
    "\n",
    "\\d* pattern will find zero or more consecutive digits in the string as wll as an empty string too."
   ]
  },
  {
   "attachments": {},
   "cell_type": "markdown",
   "metadata": {},
   "source": [
    "# Question 11\n",
    "\n",
    "{4} means that the preceding pattern should be matched exactly 4 times. For example :\n",
    "\n",
    "\\d{4} will exactly find 1234, 4567 etc consecutive 4 digits.\n",
    "\n",
    "{4,5} means the preceding pattern should be matched between 4 and 5\n",
    "\n",
    "\\d{4,5} will match 1234,12345 etc consecutive 4 and 5 digits."
   ]
  },
  {
   "attachments": {},
   "cell_type": "markdown",
   "metadata": {},
   "source": [
    "# Question 12\n",
    "\n",
    "'\\d' matches any digit character like [0-9].\n",
    "\n",
    "'\\w' matches alphanumeric character or underscore, just like [a-zA-Z0-9_].\n",
    "\n",
    "'\\s' matches any whitespace, including tabs & newline characters.\n",
    "\n",
    "These are case sensitive."
   ]
  },
  {
   "attachments": {},
   "cell_type": "markdown",
   "metadata": {},
   "source": [
    "# Question 13\n",
    "\n",
    "'\\D' matches any non-digit character like [^0-9]\n",
    "\n",
    "'\\W' matches any non-alphanumeric character or underscore like [^a-zA-Z0-9_]\n",
    "\n",
    "'\\S' matches any non whitespace character,tabs, newline characters like [^\\s]"
   ]
  },
  {
   "attachments": {},
   "cell_type": "markdown",
   "metadata": {},
   "source": [
    "# Question 14\n",
    "\n",
    "'.*' matches any number of characters until the next part of the pattern.\n",
    "\n",
    "'.*?' matches few characters as possible until the next part of the pattern.\n"
   ]
  },
  {
   "attachments": {},
   "cell_type": "markdown",
   "metadata": {},
   "source": [
    "# Question 15\n",
    "\n",
    "syntax for matching both numbers & lowercase letters - \" [a-z0-9]+ \""
   ]
  },
  {
   "cell_type": "code",
   "execution_count": 2,
   "metadata": {},
   "outputs": [
    {
     "name": "stdout",
     "output_type": "stream",
     "text": [
      "['a', 'b', 'c', '1', '2', '3']\n"
     ]
    }
   ],
   "source": [
    "import re\n",
    "\n",
    "string = \"abc123\"\n",
    "\n",
    "# using a character class to match numbers and lowercase letters\n",
    "result = re.findall(r'[a-z0-9]', string)\n",
    "\n",
    "print(result)\n",
    "# Output: ['abc123']\n"
   ]
  },
  {
   "attachments": {},
   "cell_type": "markdown",
   "metadata": {},
   "source": [
    "# Question 16\n",
    "\n",
    "To make regex case insensitive - \n",
    "\n",
    "we can use this parameter flag = re.IGNORECASE in the re.findall()."
   ]
  },
  {
   "attachments": {},
   "cell_type": "markdown",
   "metadata": {},
   "source": [
    "# Question 17\n",
    "\".\" matches any character except newline (\\n).\n",
    "\n",
    "re.DOTALL when passed as 2nd argument in re.compile, it will match any character including newlines."
   ]
  },
  {
   "attachments": {},
   "cell_type": "markdown",
   "metadata": {},
   "source": [
    "# Question 18\n",
    "\n",
    "numReg = re.compile(r\"\\d+\")  matches pne or more consecutive digits.\n",
    "\n",
    "numReg.sub() will replace all occurences ofthe pattern from the input."
   ]
  },
  {
   "attachments": {},
   "cell_type": "markdown",
   "metadata": {},
   "source": [
    "# Question 19\n",
    "\n",
    "re.VERBOSE as second argument in re.compile() helps to write readable regular expression."
   ]
  },
  {
   "attachments": {},
   "cell_type": "markdown",
   "metadata": {},
   "source": [
    "# Question 20\n",
    "How would you write a regex that match a number with comma for every three digits? It must\n",
    "match the given following:\n",
    "\n",
    "&#39;42&#39;\n",
    "\n",
    "&#39;1,234&#39;\n",
    "\n",
    "&#39;6,368,745&#39;\n",
    "\n",
    "\n",
    "but not the following:\n",
    "\n",
    "&#39;12,34,567&#39; (which has only two digits between the commas)\n",
    "\n",
    "&#39;1234&#39; (which lacks commas)"
   ]
  },
  {
   "cell_type": "code",
   "execution_count": 131,
   "metadata": {},
   "outputs": [],
   "source": [
    "import re\n",
    "\n",
    "pattern = r\"^\\d{1,3}(,\\d{3})*$\""
   ]
  },
  {
   "cell_type": "code",
   "execution_count": 132,
   "metadata": {},
   "outputs": [],
   "source": [
    "nums = [\"42\",\"1,234\",\"6,368,745\",\"12,34,567\",\"1234\",\"13,456,12\"]"
   ]
  },
  {
   "cell_type": "code",
   "execution_count": 134,
   "metadata": {},
   "outputs": [
    {
     "name": "stdout",
     "output_type": "stream",
     "text": [
      "42\n",
      "1,234\n",
      "6,368,745\n"
     ]
    }
   ],
   "source": [
    "for num in nums:\n",
    "    t=re.match(pattern,num)\n",
    "    if t:\n",
    "        print(t.group())"
   ]
  },
  {
   "attachments": {},
   "cell_type": "markdown",
   "metadata": {},
   "source": [
    "# Question 21\n",
    "How would you write a regex that matches the full name of someone whose last name is\n",
    "Watanabe? You can assume that the first name that comes before it will always be one word that\n",
    "begins with a capital letter. \n",
    "\n",
    "The regex must match the following:\n",
    "\n",
    "&#39;Haruto Watanabe&#39;\n",
    "\n",
    "&#39;Alice Watanabe&#39;\n",
    "\n",
    "&#39;RoboCop Watanabe&#39;\n",
    "\n",
    "but not the following:\n",
    "\n",
    "&#39;haruto Watanabe&#39; (where the first name is not capitalized)\n",
    "\n",
    "&#39;Mr. Watanabe&#39; (where the preceding word has a nonletter character)\n",
    "\n",
    "&#39;Watanabe&#39; (which has no first name)\n",
    "\n",
    "&#39;Haruto watanabe&#39; (where Watanabe is not capitalized)\n"
   ]
  },
  {
   "cell_type": "code",
   "execution_count": 78,
   "metadata": {},
   "outputs": [],
   "source": [
    "import re\n",
    "\n",
    "pattern = r\"[A-Z][a-zA-Z]* Watanabe\""
   ]
  },
  {
   "cell_type": "code",
   "execution_count": 79,
   "metadata": {},
   "outputs": [],
   "source": [
    "names = [\"Haruto Watanabe\",\"Alice Watanabe\",\"RoboCop Watanabe\",\"haruto Watanabe\",\"Mr. Watanabe\",\"Watanabe\",\"Haruto watanabe\"]"
   ]
  },
  {
   "cell_type": "code",
   "execution_count": 82,
   "metadata": {},
   "outputs": [
    {
     "name": "stdout",
     "output_type": "stream",
     "text": [
      "Haruto Watanabe\n",
      "Alice Watanabe\n",
      "RoboCop Watanabe\n"
     ]
    }
   ],
   "source": [
    "for i in names:\n",
    "    t=re.match(pattern,i)\n",
    "    if t:\n",
    "        print(t.group())"
   ]
  },
  {
   "attachments": {},
   "cell_type": "markdown",
   "metadata": {},
   "source": [
    "# Question 22\n",
    "How would you write a regex that matches a sentence where the first word is either Alice, Bob,\n",
    "or Carol; the second word is either eats, pets, or throws; the third word is apples, cats, or baseballs;\n",
    "and the sentence ends with a period? This regex should be case-insensitive. It must match the following:\n",
    "\n",
    "\n",
    "&#39;Alice eats apples.&#39;\n",
    "\n",
    "&#39;Bob pets cats.&#39; \n",
    "\n",
    "&#39;Carol throws baseballs.&#39;\n",
    "\n",
    "&#39;Alice throws Apples.&#39;\n",
    "\n",
    "&#39;BOB EATS CATS.&#39;\n",
    "\n",
    "but not the following:\n",
    "\n",
    "&#39;RoboCop eats apples.&#39;\n",
    "\n",
    "&#39;ALICE THROWS FOOTBALLS.&#39;\n",
    "\n",
    "&#39;Carol eats 7 cats.&#39;\n"
   ]
  },
  {
   "cell_type": "code",
   "execution_count": 68,
   "metadata": {},
   "outputs": [],
   "source": [
    "sentences=[\"Alice eats apples.\",\"Bob pets cats.\",\"Carol throws baseballs.\",\"Alice throws Apples.\",\"BOB EATS CATS .\",\"RoboCop eats apples.\",\"ALICE THROWS FOOTBALLS.\"]"
   ]
  },
  {
   "cell_type": "code",
   "execution_count": 69,
   "metadata": {},
   "outputs": [],
   "source": [
    "import re\n",
    "pattern = r\"^(Alice|Bob|Carol) (eats|pets|throws) (apples|cats|baseballs).*\\.$\""
   ]
  },
  {
   "cell_type": "code",
   "execution_count": 70,
   "metadata": {},
   "outputs": [
    {
     "name": "stdout",
     "output_type": "stream",
     "text": [
      "Alice eats apples.\n",
      "Bob pets cats.\n",
      "Carol throws baseballs.\n",
      "Alice throws Apples.\n",
      "BOB EATS CATS .\n"
     ]
    }
   ],
   "source": [
    "for d in sentences:\n",
    "    t= re.match(pattern,d,re.IGNORECASE)\n",
    "    if t:\n",
    "        print(t.group())"
   ]
  }
 ],
 "metadata": {
  "kernelspec": {
   "display_name": "Python 3",
   "language": "python",
   "name": "python3"
  },
  "language_info": {
   "codemirror_mode": {
    "name": "ipython",
    "version": 3
   },
   "file_extension": ".py",
   "mimetype": "text/x-python",
   "name": "python",
   "nbconvert_exporter": "python",
   "pygments_lexer": "ipython3",
   "version": "3.11.1"
  },
  "orig_nbformat": 4,
  "vscode": {
   "interpreter": {
    "hash": "c37f8387768dbf3986146d42fe4d96fc9b384a0da7362fe905d7d4ce093495c8"
   }
  }
 },
 "nbformat": 4,
 "nbformat_minor": 2
}
