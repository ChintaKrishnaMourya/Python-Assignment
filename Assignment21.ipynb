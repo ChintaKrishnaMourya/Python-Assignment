{
 "cells": [
  {
   "attachments": {},
   "cell_type": "markdown",
   "metadata": {},
   "source": [
    "# These are answers to the given questions."
   ]
  },
  {
   "attachments": {},
   "cell_type": "markdown",
   "metadata": {},
   "source": [
    "# Question 1\n",
    "\n",
    "ADD CURRENT DATE TO THE TEST.TXT AS  A STRING\n",
    "\n",
    "from datetime import datetime\n",
    "\n",
    "date = str(datetime.now().date())\n",
    "\n",
    "with open(\"today.txt\",\"w\") as file:\n",
    "\n",
    "    file.write(date)"
   ]
  },
  {
   "attachments": {},
   "cell_type": "markdown",
   "metadata": {},
   "source": [
    "# Question 2\n",
    "READ THE TODAY.TXT INTO THE STRING TODAY_STRING\n",
    "\n",
    "with open(\"today.txt\") as file:\n",
    "\n",
    "    today_string = file.read()"
   ]
  },
  {
   "attachments": {},
   "cell_type": "markdown",
   "metadata": {},
   "source": [
    "# Question 3\n",
    "\n",
    "Parse the date from today_string\n",
    "\n",
    "from the above question, we get ,\n",
    "\n",
    "date text is the format YYYY-MM-DD\n",
    "\n",
    "to Parse the date:\n",
    "\n",
    "parse_date = today_string[-2:]\n",
    "\n",
    "this will give date : \"05\""
   ]
  },
  {
   "attachments": {},
   "cell_type": "markdown",
   "metadata": {},
   "source": [
    "# Question 4\n",
    "\n",
    "List the files in your current directory\n",
    "\n",
    "import os\n",
    "\n",
    "files = os.listdir()\n",
    "\n",
    "print(files)"
   ]
  },
  {
   "attachments": {},
   "cell_type": "markdown",
   "metadata": {},
   "source": [
    "# Question 5\n",
    "\n",
    "Create a list of all of the files in your parent directory (minimum five files should be available).\n",
    "\n",
    "import os\n",
    "\n",
    "parent_dir = os.path.abspath(os.path.join(os.getcwd(), os.pardir))\n",
    "\n",
    "if len(os.listdir(parent_dir)) >=5:\n",
    "\n",
    "    for filename in os.listdir(parent_dir):\n",
    "\n",
    "        print(filename)\n",
    "else:\n",
    "\n",
    "    print(\"Files are not >=5\\nAvailable files are {}\".format(len(os.listdir(parent_dir))))"
   ]
  },
  {
   "attachments": {},
   "cell_type": "markdown",
   "metadata": {},
   "source": [
    "# Question 6\n",
    "\n",
    "Use multiprocessing to create three separate processes. Make each one wait a random number of\n",
    "seconds between one and five, print the current time, and then exit.\n"
   ]
  },
  {
   "attachments": {},
   "cell_type": "markdown",
   "metadata": {},
   "source": [
    "# Question 7\n",
    "\n",
    "Create a date object of your day of birth.\n",
    "\n",
    "from datetime import date\n",
    "\n",
    "birthday = date(2000,12,100)\n",
    "\n",
    "print(birthday)"
   ]
  },
  {
   "attachments": {},
   "cell_type": "markdown",
   "metadata": {},
   "source": [
    "# Question 8\n",
    "\n",
    "What day of the week was your day of birth?\n",
    "\n",
    "from datetime import date\n",
    "\n",
    "bd = date(2000,12,10)\n",
    "\n",
    "week = bd.weekday()\n",
    "\n",
    "weeks = [\"Monday\",\"Tuesday\",\"Wednesday\",\"Thursday\",\"Friday\",\"Saturday\",\"sunday\"]\n",
    "\n",
    "weeks[week]"
   ]
  },
  {
   "attachments": {},
   "cell_type": "markdown",
   "metadata": {},
   "source": [
    "# Question 9\n",
    "\n",
    "from datetime import date, timedelta\n",
    "\n",
    "bd = date(2000,12,10)\n",
    "\n",
    "_10000Days = timedelta(days=10000)\n",
    "\n",
    "ten_thousand_days = bd+_10000Days\n",
    "\n",
    "print(\"I will be 10,000 days old on\", ten_thousand_days)"
   ]
  },
  {
   "cell_type": "code",
   "execution_count": 50,
   "metadata": {},
   "outputs": [
    {
     "name": "stdout",
     "output_type": "stream",
     "text": [
      "I will be 10,000 days old on 2028-04-27\n"
     ]
    }
   ],
   "source": [
    "from datetime import date, timedelta\n",
    "\n",
    "bd = date(2000, 12, 10)\n",
    "_10000D = timedelta(days=10000)\n",
    "\n",
    "ten_thousand_days = bd + _10000D\n",
    "\n",
    "print(\"I will be 10,000 days old on\", ten_thousand_days)\n"
   ]
  },
  {
   "cell_type": "code",
   "execution_count": 46,
   "metadata": {},
   "outputs": [
    {
     "data": {
      "text/plain": [
       "6"
      ]
     },
     "execution_count": 46,
     "metadata": {},
     "output_type": "execute_result"
    }
   ],
   "source": [
    "from datetime import date\n",
    "bd = date(2000,12,10)\n",
    "week = bd.weekday()\n",
    "week"
   ]
  },
  {
   "cell_type": "code",
   "execution_count": 47,
   "metadata": {},
   "outputs": [
    {
     "data": {
      "text/plain": [
       "'sunday'"
      ]
     },
     "execution_count": 47,
     "metadata": {},
     "output_type": "execute_result"
    }
   ],
   "source": [
    "weeks = [\"Monday\",\"Tuesday\",\"Wednesday\",\"Thursday\",\"Friday\",\"Saturday\",\"sunday\"]\n",
    "weeks[week]"
   ]
  },
  {
   "cell_type": "code",
   "execution_count": 45,
   "metadata": {},
   "outputs": [
    {
     "name": "stdout",
     "output_type": "stream",
     "text": [
      "2000-12-10\n"
     ]
    }
   ],
   "source": [
    "bd = date(2000,12,10)\n",
    "print(bd)"
   ]
  },
  {
   "cell_type": "code",
   "execution_count": 42,
   "metadata": {},
   "outputs": [],
   "source": [
    "from datetime import datetime as dt"
   ]
  },
  {
   "cell_type": "code",
   "execution_count": 25,
   "metadata": {},
   "outputs": [
    {
     "data": {
      "text/plain": [
       "'2023-02-05'"
      ]
     },
     "execution_count": 25,
     "metadata": {},
     "output_type": "execute_result"
    }
   ],
   "source": [
    "date = str(dt.now().date())\n",
    "date"
   ]
  },
  {
   "cell_type": "code",
   "execution_count": 27,
   "metadata": {},
   "outputs": [],
   "source": [
    "with open(\"today.txt\",\"w\") as f:\n",
    "    f.write(date)"
   ]
  },
  {
   "cell_type": "code",
   "execution_count": 28,
   "metadata": {},
   "outputs": [],
   "source": [
    "with open(\"today.txt\") as file:\n",
    "\n",
    "    today_string = file.read()"
   ]
  },
  {
   "cell_type": "code",
   "execution_count": 30,
   "metadata": {},
   "outputs": [],
   "source": [
    "parse_date = today_string[-2:]"
   ]
  },
  {
   "cell_type": "code",
   "execution_count": 31,
   "metadata": {},
   "outputs": [
    {
     "data": {
      "text/plain": [
       "'05'"
      ]
     },
     "execution_count": 31,
     "metadata": {},
     "output_type": "execute_result"
    }
   ],
   "source": [
    "parse_date"
   ]
  },
  {
   "cell_type": "code",
   "execution_count": 32,
   "metadata": {},
   "outputs": [],
   "source": [
    "import os\n"
   ]
  },
  {
   "cell_type": "code",
   "execution_count": 33,
   "metadata": {},
   "outputs": [
    {
     "data": {
      "text/plain": [
       "['Assignment1.ipynb',\n",
       " 'Assignment10.ipynb',\n",
       " 'Assignment11.ipynb',\n",
       " 'Assignment12.ipynb',\n",
       " 'Assignment13.ipynb',\n",
       " 'Assignment14.ipynb',\n",
       " 'Assignment15.ipynb',\n",
       " 'Assignment16.ipynb',\n",
       " 'Assignment17.ipynb',\n",
       " 'Assignment18.ipynb',\n",
       " 'Assignment19.ipynb',\n",
       " 'Assignment2.ipynb',\n",
       " 'Assignment20.ipynb',\n",
       " 'Assignment21.ipynb',\n",
       " 'Assignment22.ipynb',\n",
       " 'Assignment23.ipynb',\n",
       " 'Assignment24.ipynb',\n",
       " 'Assignment25.ipynb',\n",
       " 'Assignment3.ipynb',\n",
       " 'Assignment4.ipynb',\n",
       " 'Assignment5.ipynb',\n",
       " 'Assignment6.ipynb',\n",
       " 'Assignment7.ipynb',\n",
       " 'Assignment8.ipynb',\n",
       " 'Assignment9.ipynb',\n",
       " 'today.txt']"
      ]
     },
     "execution_count": 33,
     "metadata": {},
     "output_type": "execute_result"
    }
   ],
   "source": [
    "f = os.listdir()\n",
    "f"
   ]
  },
  {
   "cell_type": "code",
   "execution_count": 37,
   "metadata": {},
   "outputs": [
    {
     "data": {
      "text/plain": [
       "'c:\\\\ineuron'"
      ]
     },
     "execution_count": 37,
     "metadata": {},
     "output_type": "execute_result"
    }
   ],
   "source": [
    "parent_dir = os.path.abspath(os.path.join(os.getcwd(), os.pardir))\n",
    "parent_dir"
   ]
  },
  {
   "cell_type": "code",
   "execution_count": 41,
   "metadata": {},
   "outputs": [
    {
     "name": "stdout",
     "output_type": "stream",
     "text": [
      "Files are not >=5\n",
      "Available files are 3\n"
     ]
    }
   ],
   "source": [
    "if len(os.listdir(parent_dir)) >=5:\n",
    "    for filename in os.listdir(parent_dir):\n",
    "        print(filename)\n",
    "else:\n",
    "    print(\"Files are not >=5\\nAvailable files are {}\".format(len(os.listdir(parent_dir))))\n"
   ]
  }
 ],
 "metadata": {
  "kernelspec": {
   "display_name": "Python 3",
   "language": "python",
   "name": "python3"
  },
  "language_info": {
   "codemirror_mode": {
    "name": "ipython",
    "version": 3
   },
   "file_extension": ".py",
   "mimetype": "text/x-python",
   "name": "python",
   "nbconvert_exporter": "python",
   "pygments_lexer": "ipython3",
   "version": "3.11.1"
  },
  "orig_nbformat": 4,
  "vscode": {
   "interpreter": {
    "hash": "c37f8387768dbf3986146d42fe4d96fc9b384a0da7362fe905d7d4ce093495c8"
   }
  }
 },
 "nbformat": 4,
 "nbformat_minor": 2
}
