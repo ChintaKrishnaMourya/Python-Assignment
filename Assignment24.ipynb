{
 "cells": [
  {
   "attachments": {},
   "cell_type": "markdown",
   "metadata": {},
   "source": [
    "# These are answers to the given questions."
   ]
  },
  {
   "attachments": {},
   "cell_type": "markdown",
   "metadata": {},
   "source": [
    "# Question 1\n",
    "\n",
    "def statement is used to define the function. It will contain multiple lines, and return statement and can be called multiple times.\n",
    "\n",
    "def function ():\n",
    "\n",
    "where as lambda expression is also works as fucntion. usually referred as anonymous functions.\n",
    "\n",
    "lambda x : x*2"
   ]
  },
  {
   "attachments": {},
   "cell_type": "markdown",
   "metadata": {},
   "source": [
    "# Question 2\n",
    "\n",
    "lambda expressions help us to write small codes and anonymous. They are faster than traditional functions. Usuallu we write them with map, reduce,filter functions."
   ]
  },
  {
   "attachments": {},
   "cell_type": "markdown",
   "metadata": {},
   "source": [
    "# Question 3\n",
    "map,reduce ,filter are functions that help us to manipulate data. They take function ,iterable as arguments.\n",
    "\n",
    "map() : Applies the given function to each item in the iterable.\n",
    "\n",
    "filter() : returns the values when the given function returns True.\n",
    "\n",
    "reduce() : It not returns iterable like map(),filter(). It applies the function to the first two items in the iterable then to the result and the next item. It will return the single value.\n",
    "It is a part of functools() module."
   ]
  },
  {
   "attachments": {},
   "cell_type": "markdown",
   "metadata": {},
   "source": [
    "# Question 4\n",
    "\n",
    "Function annotations are associated with function parameters,return values. We specify them with ( : ). for parameters (: int() and return value (-> int). It is used to provide info about parameter & outcome."
   ]
  },
  {
   "attachments": {},
   "cell_type": "markdown",
   "metadata": {},
   "source": [
    "# Question 5\n",
    "\n",
    "recursive fucntions are fucntions that call themselves. It has 2 parts:\n",
    "\n",
    "base case : conditions under which the function stops calling itself.\n",
    "\n",
    "recursive case : conditions under which function calls itslef with version."
   ]
  },
  {
   "attachments": {},
   "cell_type": "markdown",
   "metadata": {},
   "source": [
    "# Question 6\n",
    "\n",
    "Some guidelines while coding functions :\n",
    "\n",
    "error Handling, Documentation(function annotations), Input Validation, Avoid chaging of state of variables outside their scope etc"
   ]
  },
  {
   "attachments": {},
   "cell_type": "markdown",
   "metadata": {},
   "source": [
    "# Question 7\n",
    "Ways that fuinction communicate with caller:\n",
    "\n",
    "return values, error handling, logging, "
   ]
  },
  {
   "cell_type": "code",
   "execution_count": null,
   "metadata": {},
   "outputs": [],
   "source": []
  }
 ],
 "metadata": {
  "language_info": {
   "name": "python"
  },
  "orig_nbformat": 4
 },
 "nbformat": 4,
 "nbformat_minor": 2
}
