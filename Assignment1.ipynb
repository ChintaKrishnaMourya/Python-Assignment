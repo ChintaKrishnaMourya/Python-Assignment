{
 "cells": [
  {
   "attachments": {},
   "cell_type": "markdown",
   "metadata": {},
   "source": [
    "# These are answers to the given questions."
   ]
  },
  {
   "attachments": {},
   "cell_type": "markdown",
   "metadata": {},
   "source": [
    "# Question1\n",
    "\n",
    "values : \"hello,-87.8,6\n",
    "\n",
    "expressions : *,-,/,+"
   ]
  },
  {
   "attachments": {},
   "cell_type": "markdown",
   "metadata": {},
   "source": [
    "# Question 2\n",
    "\n",
    "A string is a data type. It is used to store text data. It can contain letters, symbols etc. We used \" \" or ' ' to store in the form of string.\n",
    "\n",
    "A variable is used to store values that can change during execution. Variables can be used to store strings,integers . We can change value of variable but not type,for that we have to use int(),str(),float() to change types.\n",
    "\n",
    "name = \"Mourya\"\n",
    "\n",
    "name is variable storing a string \"Mourya\""
   ]
  },
  {
   "attachments": {},
   "cell_type": "markdown",
   "metadata": {},
   "source": [
    "# Question 3\n",
    "\n",
    "Integers : Value of int class. Positive, Negative numbers can be stored. It can not store decimals,fractions. \n",
    "\n",
    "Float : It belongs to float class. It can contain all numbers with decimal points and fractions.\n",
    "\n",
    "List : It belongs to list class. It is ordered,indexed,mutable collection of data of any type.\n",
    "\n",
    "String : It belongs to string class. It is used to store text like values. We can access the characters of string using index."
   ]
  },
  {
   "attachments": {},
   "cell_type": "markdown",
   "metadata": {},
   "source": [
    "# Question 4\n",
    "An expression is generally a combination of values,variables, and operators. This combination is used to evaluate. For example :\n",
    "\n",
    "2+3 is an expression. It evaluates to 5, \n",
    "\n",
    "or if we can store as a=2, b=3 (a & b are variables),\n",
    "a+b is evaluated to 5.\n",
    "\n",
    "We can combine strings but not strings with numbers.\n",
    "\n",
    "The expression a>b gives boolean value : False (2 is not > 3)"
   ]
  },
  {
   "attachments": {},
   "cell_type": "markdown",
   "metadata": {},
   "source": [
    "# Question 5\n",
    "\n",
    "An expression is used to evaluate where as statement is used to perform an action like \"if\" condition,\"for\" loop and also assigning the value to the variable is also considered as statement."
   ]
  },
  {
   "attachments": {},
   "cell_type": "markdown",
   "metadata": {},
   "source": [
    "# Question 6\n",
    "6. After running the following code, what does the variable bacon contain?\n",
    "\n",
    "bacon = 22\n",
    "bacon + 1\n",
    "\n",
    "bacon  will be still 22, because we added 1 to bacon variable , but we didnt assign this value to bacon variable.\n",
    "If we did like this ( bacon = bacon +1) then it become 23."
   ]
  },
  {
   "attachments": {},
   "cell_type": "markdown",
   "metadata": {},
   "source": [
    "# Question 7\n",
    "'spam' + 'spam' = 'spamspamspam'\n",
    "\n",
    "'spam'*3 = 'spamspamspam'"
   ]
  },
  {
   "attachments": {},
   "cell_type": "markdown",
   "metadata": {},
   "source": [
    "# Question 8\n",
    "\n",
    "A variable name should start with a letter or also underscore. It can contain numbers but not in starting. Since 100 is an integer,we cannot assign any value to it and key words also should not be used as variables becuase it may be give errors or inappropriate results later in the code.\n",
    "\n",
    "so , we can used _100 as variable or x100."
   ]
  },
  {
   "cell_type": "code",
   "execution_count": 10,
   "metadata": {},
   "outputs": [
    {
     "data": {
      "text/plain": [
       "5"
      ]
     },
     "execution_count": 10,
     "metadata": {},
     "output_type": "execute_result"
    }
   ],
   "source": [
    "_100 = 5\n",
    "_100"
   ]
  },
  {
   "attachments": {},
   "cell_type": "markdown",
   "metadata": {},
   "source": [
    "# Question 9\n",
    "\n",
    "int() to get integer value of a number.\n",
    "\n",
    "float() to get decimal numbers.\n",
    "\n",
    "str() to get values as string types."
   ]
  },
  {
   "attachments": {},
   "cell_type": "markdown",
   "metadata": {},
   "source": [
    "# Question 10\n",
    "\n",
    "'I have eaten' + 99 + 'burritos.'\n",
    "It gives error becuase we can add string and numbers, Irorder to get no error, we should change 99 to string but str(99) or \"99\"."
   ]
  },
  {
   "cell_type": "code",
   "execution_count": 11,
   "metadata": {},
   "outputs": [
    {
     "ename": "TypeError",
     "evalue": "can only concatenate str (not \"int\") to str",
     "output_type": "error",
     "traceback": [
      "\u001b[1;31m---------------------------------------------------------------------------\u001b[0m",
      "\u001b[1;31mTypeError\u001b[0m                                 Traceback (most recent call last)",
      "Cell \u001b[1;32mIn[11], line 1\u001b[0m\n\u001b[1;32m----> 1\u001b[0m \u001b[39m'\u001b[39;49m\u001b[39mI have eaten\u001b[39;49m\u001b[39m'\u001b[39;49m \u001b[39m+\u001b[39;49m \u001b[39m99\u001b[39;49m \u001b[39m+\u001b[39m \u001b[39m'\u001b[39m\u001b[39mburritos.\u001b[39m\u001b[39m'\u001b[39m\n",
      "\u001b[1;31mTypeError\u001b[0m: can only concatenate str (not \"int\") to str"
     ]
    }
   ],
   "source": [
    "'I have eaten' + 99 + 'burritos.'"
   ]
  },
  {
   "cell_type": "code",
   "execution_count": 13,
   "metadata": {},
   "outputs": [
    {
     "data": {
      "text/plain": [
       "'I have eaten 99 burritos.'"
      ]
     },
     "execution_count": 13,
     "metadata": {},
     "output_type": "execute_result"
    }
   ],
   "source": [
    "'I have eaten ' + str(99) + ' burritos.'"
   ]
  },
  {
   "cell_type": "code",
   "execution_count": 14,
   "metadata": {},
   "outputs": [
    {
     "data": {
      "text/plain": [
       "'I have eaten 99 burritos.'"
      ]
     },
     "execution_count": 14,
     "metadata": {},
     "output_type": "execute_result"
    }
   ],
   "source": [
    "'I have eaten' + ' 99 ' + 'burritos.'"
   ]
  }
 ],
 "metadata": {
  "kernelspec": {
   "display_name": "Python 3",
   "language": "python",
   "name": "python3"
  },
  "language_info": {
   "codemirror_mode": {
    "name": "ipython",
    "version": 3
   },
   "file_extension": ".py",
   "mimetype": "text/x-python",
   "name": "python",
   "nbconvert_exporter": "python",
   "pygments_lexer": "ipython3",
   "version": "3.11.1"
  },
  "orig_nbformat": 4,
  "vscode": {
   "interpreter": {
    "hash": "c37f8387768dbf3986146d42fe4d96fc9b384a0da7362fe905d7d4ce093495c8"
   }
  }
 },
 "nbformat": 4,
 "nbformat_minor": 2
}
