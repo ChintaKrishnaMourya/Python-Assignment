{
 "cells": [
  {
   "attachments": {},
   "cell_type": "markdown",
   "metadata": {},
   "source": [
    "# These are answers to the given questions."
   ]
  },
  {
   "attachments": {},
   "cell_type": "markdown",
   "metadata": {},
   "source": [
    "# Question 1\n",
    "\n",
    "X = \"iNeuron\"\n",
    "def func():\n",
    "    print(X)\n",
    "\n",
    "func()\n",
    "\n",
    "output = \"iNeuron\"\n",
    "\n",
    "Nothing is defined for X in the function. In python ,variables outside the function has global scope. So, they can be even in the fuction."
   ]
  },
  {
   "attachments": {},
   "cell_type": "markdown",
   "metadata": {},
   "source": [
    "# Question 2\n",
    "X = 'iNeuron'\n",
    "\n",
    "def func():\n",
    "    X = 'NI'\n",
    "\n",
    "func()\n",
    "print(X)\n",
    "\n",
    "output = \"iNeuron\"\n",
    "\n",
    "Since the function is not returning anything, there is no output. And, print(x) is just printing the above defined variable."
   ]
  },
  {
   "attachments": {},
   "cell_type": "markdown",
   "metadata": {},
   "source": [
    "# Question 3\n",
    "\n",
    "X = 'iNeuron'\n",
    "def func():\n",
    "    X = 'NI'\n",
    "    print(X)\n",
    "\n",
    "func()\n",
    "print(X)\n",
    "\n",
    "Output =\n",
    "\n",
    "'NI'\n",
    "\n",
    "'iNeuron'\n",
    "\n",
    "X is defined in the function and it will have only local scope, in the function, so it cant override the 'X' that is defined outside the fuction. \n",
    "So, When the fuction is called, it will print \"NI\" and print(x) willo print global X,since variables outside the function will have global scope."
   ]
  },
  {
   "attachments": {},
   "cell_type": "markdown",
   "metadata": {},
   "source": [
    "# Question 4\n",
    "\n",
    "X = 'iNeuron'\n",
    "def func():\n",
    "    global X\n",
    "    X= \"NI\"\n",
    "    print(X)\n",
    "\n",
    "func()\n",
    "print(X)\n",
    "\n",
    "output = \n",
    "\n",
    "\"NI\"\n",
    "\n",
    "\"NI\"\n",
    "\n",
    "Since \"X\" is defined as global variable in the function. After defining it as global variable, now it is assigned with \"NI\". So, printing \"X\" will print \"NI\""
   ]
  },
  {
   "attachments": {},
   "cell_type": "markdown",
   "metadata": {},
   "source": [
    "# Question 5\n",
    "Output is :\n",
    "\n",
    "\"NI\"\n",
    "\n",
    "\"iNeuron\"\n",
    "\n",
    "nested() is defined within func(). X= \"NI\" is in defined func(). So, nested() will print \"NI\". But, \"X\" will be not overriden by any of the \"X\" thta is defined in a function, as variables outside the fucntion has global scope."
   ]
  },
  {
   "attachments": {},
   "cell_type": "markdown",
   "metadata": {},
   "source": [
    "# Question 6\n",
    "\n",
    "def func():\n",
    "    X = 'NI'\n",
    "    def nested():\n",
    "        nonlocal X\n",
    "        X = \"Spam\"\n",
    "    nested()\n",
    "    print(X)\n",
    "\n",
    "output = \"Spam\". \n",
    "\n",
    "nonlocal keyword is used to modify non-global variable within a nested function. So, \"X\" which is defined outside the nested() function can be overriden in the nested() function using this keyword.\n",
    "\n",
    "SO, when we call func(), it will print \"Spam\""
   ]
  }
 ],
 "metadata": {
  "kernelspec": {
   "display_name": "Python 3",
   "language": "python",
   "name": "python3"
  },
  "language_info": {
   "codemirror_mode": {
    "name": "ipython",
    "version": 3
   },
   "file_extension": ".py",
   "mimetype": "text/x-python",
   "name": "python",
   "nbconvert_exporter": "python",
   "pygments_lexer": "ipython3",
   "version": "3.11.1"
  },
  "orig_nbformat": 4,
  "vscode": {
   "interpreter": {
    "hash": "c37f8387768dbf3986146d42fe4d96fc9b384a0da7362fe905d7d4ce093495c8"
   }
  }
 },
 "nbformat": 4,
 "nbformat_minor": 2
}
