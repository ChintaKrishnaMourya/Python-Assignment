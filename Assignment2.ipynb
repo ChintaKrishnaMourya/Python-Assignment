{
 "cells": [
  {
   "attachments": {},
   "cell_type": "markdown",
   "metadata": {},
   "source": [
    "# These are answers to the given questions."
   ]
  },
  {
   "attachments": {},
   "cell_type": "markdown",
   "metadata": {},
   "source": [
    "# Question1\n",
    "True and False are 2 types of boolean data types. Generally used in condition statements. No need to keep them in quotes.\n"
   ]
  },
  {
   "attachments": {},
   "cell_type": "markdown",
   "metadata": {},
   "source": [
    "# Question 2\n",
    "\n",
    "3 boolean operators : and, or, not."
   ]
  },
  {
   "cell_type": "code",
   "execution_count": 4,
   "metadata": {},
   "outputs": [
    {
     "name": "stdout",
     "output_type": "stream",
     "text": [
      "False\n",
      "True\n",
      "False\n"
     ]
    }
   ],
   "source": [
    "print(True and False)\n",
    "print(True or False)\n",
    "print(not True)"
   ]
  },
  {
   "attachments": {},
   "cell_type": "markdown",
   "metadata": {},
   "source": [
    "# Question 3\n",
    " boolean operations"
   ]
  },
  {
   "cell_type": "code",
   "execution_count": 16,
   "metadata": {},
   "outputs": [
    {
     "name": "stdout",
     "output_type": "stream",
     "text": [
      "using 'and' operator\n",
      "\n",
      "True and True = True\n",
      "True and False = False\n",
      "False and True = False\n",
      "False and False = False\n",
      "--------------------\n",
      "\n",
      "Using 'or' operator\n",
      "\n",
      "True and True = True\n",
      "True and False = True\n",
      "False and True = True\n",
      "False and False = False\n",
      "--------------------\n",
      "\n",
      "Using 'not' operator\n",
      "\n",
      "True and False = False\n",
      "False and False = True\n"
     ]
    }
   ],
   "source": [
    "b = [True, False]\n",
    "print(\"using 'and' operator\\n\")\n",
    "for i in b:\n",
    "    for j in b:\n",
    "        print(i, \"and\", j, \"=\",  i and j)\n",
    "print(\"-\"*20)\n",
    "\n",
    "print(\"\\nUsing 'or' operator\\n\")\n",
    "for i in b:\n",
    "    for j in b:\n",
    "        print(i, \"and\", j, \"=\",  i or j)\n",
    "print(\"-\"*20)\n",
    "print(\"\\nUsing 'not' operator\\n\" )\n",
    "for i in b:\n",
    "    print(i, \"and\", j, \"=\",  not i)\n",
    "\n"
   ]
  },
  {
   "attachments": {},
   "cell_type": "markdown",
   "metadata": {},
   "source": [
    "# Question 4\n",
    "\n",
    "(5 > 4) and (3 == 5) gives False\n",
    "\n",
    "not (5 > 4) gives False\n",
    "\n",
    "not ((5 > 4) or (3 == 5)) gives False\n",
    "\n",
    "(True and True) and (True == False) gives False\n",
    "\n",
    "(not False) or (not True)  gives True"
   ]
  },
  {
   "attachments": {},
   "cell_type": "markdown",
   "metadata": {},
   "source": [
    "# Question 5\n",
    "\n",
    "6 comparison operators :\n",
    "\n",
    "\"==\", \"!=\", \"<\", \">\", \">=\", \"<=\""
   ]
  },
  {
   "attachments": {},
   "cell_type": "markdown",
   "metadata": {},
   "source": [
    "# Question 6\n",
    "\n",
    "For equality, we use \"==\" operator & to assign, we use \"=\" operator.\n",
    "\n",
    "a= 5, b=4\n",
    "a==b gives you error because 5 is not 4\n",
    "\n",
    "a=b means we are assigning value of b to a. Now value of 'a' will become 4.\n"
   ]
  },
  {
   "attachments": {},
   "cell_type": "markdown",
   "metadata": {},
   "source": [
    "# Question 7\n",
    "3 blocks of the code are :\n",
    "\n",
    "spam = 0 , is the 1st block. Here assigment of value is happening.\n",
    "\n",
    "2nd block is \"if\" statement. \n",
    "\n",
    "3rd block is \"if-else\" statement.\n"
   ]
  },
  {
   "attachments": {},
   "cell_type": "markdown",
   "metadata": {},
   "source": [
    "# Question 8\n",
    "\n",
    "Write code that prints Hello if 1 is stored in spam, prints Howdy if 2 is stored in spam, and prints\n",
    "Greetings! if anything else is stored in spam.\n",
    "\n",
    "spam = int(input(\"Enter a value))\n",
    "\n",
    "if spam == 1:\n",
    "\n",
    "    print(\"Hello\")\n",
    "\n",
    "elif spam == 2:\n",
    "\n",
    "    print(\"Howdy\")\n",
    "\n",
    "else:\n",
    "\n",
    "    print(\"Greetings!\")"
   ]
  },
  {
   "attachments": {},
   "cell_type": "markdown",
   "metadata": {},
   "source": [
    "# Question 9\n",
    "\n",
    "\"ctrl+c\" if code stuck in endless loop"
   ]
  },
  {
   "attachments": {},
   "cell_type": "markdown",
   "metadata": {},
   "source": [
    "# Question 10\n",
    "\n",
    "\"break\" statement breaks the code when certain criteria if fullfiled, whereas \"continue\" statement skips the current iteration and skips to next iteration."
   ]
  },
  {
   "attachments": {},
   "cell_type": "markdown",
   "metadata": {},
   "source": [
    "# Question 11\n",
    "range function is usually contains\n",
    "range(start,stop,step)\n",
    "\n",
    "so, range(10),range(0,10),range(0,10,1) all gives the same result excluding 10 with step size 1 - 0,1,2,3,4,5,6,7,8,9"
   ]
  },
  {
   "attachments": {},
   "cell_type": "markdown",
   "metadata": {},
   "source": [
    "# Question 12\n",
    "\n",
    "using \"for\" loop :\n",
    "\n",
    "for i in range(1,11):\n",
    "    \n",
    "    print(i)\n",
    "\n",
    "using \"while\" loop :\n",
    "\n",
    "i =1\n",
    "\n",
    "while i<=10:\n",
    "\n",
    "    print(i)\n",
    "    \n",
    "    i+=1"
   ]
  },
  {
   "attachments": {},
   "cell_type": "markdown",
   "metadata": {},
   "source": [
    "# Question 13\n",
    "\n",
    "import spam\n",
    "\n",
    "spam.bacon()"
   ]
  }
 ],
 "metadata": {
  "kernelspec": {
   "display_name": "Python 3",
   "language": "python",
   "name": "python3"
  },
  "language_info": {
   "codemirror_mode": {
    "name": "ipython",
    "version": 3
   },
   "file_extension": ".py",
   "mimetype": "text/x-python",
   "name": "python",
   "nbconvert_exporter": "python",
   "pygments_lexer": "ipython3",
   "version": "3.10.10"
  },
  "orig_nbformat": 4,
  "vscode": {
   "interpreter": {
    "hash": "40590ebb26e95edc6c1f3a8a7137aad132b51444b5d516fe05a60311a56b75f0"
   }
  }
 },
 "nbformat": 4,
 "nbformat_minor": 2
}
