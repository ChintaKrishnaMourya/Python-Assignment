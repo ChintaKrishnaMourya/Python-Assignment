{
 "cells": [
  {
   "attachments": {},
   "cell_type": "markdown",
   "metadata": {},
   "source": [
    "# These are answers to the given questions."
   ]
  },
  {
   "attachments": {},
   "cell_type": "markdown",
   "metadata": {},
   "source": [
    "# Question 1\n",
    "\n",
    "A relative path refers to the file or directory location relative to the current working directory rather than absolute path."
   ]
  },
  {
   "attachments": {},
   "cell_type": "markdown",
   "metadata": {},
   "source": [
    "# Question 2\n",
    "My OS is windows. Absolute path starts from the drive letter \"c:/\""
   ]
  },
  {
   "attachments": {},
   "cell_type": "markdown",
   "metadata": {},
   "source": [
    "# Question 3\n",
    "\n",
    "os.getcwd() gives the path of current working directory.\n",
    "\n",
    "os.chdir() helps us to change the current working directory. We have to give the argument \"path\"."
   ]
  },
  {
   "attachments": {},
   "cell_type": "markdown",
   "metadata": {},
   "source": [
    "# Question 4\n",
    "\n",
    "(.) regers to the current working directory and (..) refers to the parent working directory"
   ]
  },
  {
   "attachments": {},
   "cell_type": "markdown",
   "metadata": {},
   "source": [
    "# Question 5\n",
    "\n",
    "C:\\bacon\\eggs\\spam.txt,\n",
    "\n",
    "eggs id the directory name and \"spam.txt\" is the base name."
   ]
  },
  {
   "attachments": {},
   "cell_type": "markdown",
   "metadata": {},
   "source": [
    "# Question 6\n",
    "\n",
    "3 modes in open() are \n",
    "\n",
    "\"r\" : helps to read the opended file and is default mode.\n",
    "\n",
    "\"w\" helps to write the opended file, it will override the existing data.\n",
    "\n",
    "\"a\" helps to append the data to the end of the exisiting data."
   ]
  },
  {
   "attachments": {},
   "cell_type": "markdown",
   "metadata": {},
   "source": [
    "# Question 7\n",
    "\n",
    "If an exisitng file is opended with write mode, it will overrride the exisitng data. It will truncate all the data in the file."
   ]
  },
  {
   "attachments": {},
   "cell_type": "markdown",
   "metadata": {},
   "source": [
    "# Question 8\n",
    "read() and readlines() helps us to read the file. read() reads all the content of the file , where as readlines() reads the content as lines. It will give the data in the format of lines of strings. "
   ]
  },
  {
   "attachments": {},
   "cell_type": "markdown",
   "metadata": {},
   "source": [
    "# Question 9\n",
    "A shelf value resembles the data structure \"Dictionary\""
   ]
  }
 ],
 "metadata": {
  "kernelspec": {
   "display_name": "Python 3",
   "language": "python",
   "name": "python3"
  },
  "language_info": {
   "codemirror_mode": {
    "name": "ipython",
    "version": 3
   },
   "file_extension": ".py",
   "mimetype": "text/x-python",
   "name": "python",
   "nbconvert_exporter": "python",
   "pygments_lexer": "ipython3",
   "version": "3.11.1"
  },
  "orig_nbformat": 4,
  "vscode": {
   "interpreter": {
    "hash": "c37f8387768dbf3986146d42fe4d96fc9b384a0da7362fe905d7d4ce093495c8"
   }
  }
 },
 "nbformat": 4,
 "nbformat_minor": 2
}
