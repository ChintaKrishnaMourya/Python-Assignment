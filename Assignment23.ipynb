{
 "cells": [
  {
   "attachments": {},
   "cell_type": "markdown",
   "metadata": {},
   "source": [
    "# These are answers to the given questions."
   ]
  },
  {
   "attachments": {},
   "cell_type": "markdown",
   "metadata": {},
   "source": [
    "# Question 1\n",
    "\n",
    "def func(a, b=6, c=8):\n",
    "print(a, b, c)\n",
    "func(1, 2)\n",
    "\n",
    "Output is 1,2,8\n",
    "\n",
    "by defaut b,c are assigned with 6,8 in function.\n",
    "When we call the function with the values we give, they will override the default values."
   ]
  },
  {
   "attachments": {},
   "cell_type": "markdown",
   "metadata": {},
   "source": [
    "# Question 2\n",
    "def func(a, b, c=5):\n",
    "    print(a, b, c)\n",
    "func(1, c=3, b=2)\n",
    "\n",
    "output is 1,2,3\n",
    "\n",
    "Arguments passed to the function parameters will be assigned in the order they are defined, unless they are given with keyword. Since in the function call, c=3,b=2, they will overrride and pass the values to the parameters.\n"
   ]
  },
  {
   "attachments": {},
   "cell_type": "markdown",
   "metadata": {},
   "source": [
    "# Question 3\n",
    "\n",
    "def func(a, *pargs):\n",
    "    print(a, pargs)\n",
    "func(1, 2, 3)\n",
    "\n",
    "output is 1 (2,3)\n",
    "\n",
    "Because *pargs in the function definition specifies that the function can take any number of positional arguments beyond \"a\". The arguments are returned as tuples.\n",
    "\n",
    "1 will be assigned to a, and remaining 2 elements will be assigned to pargs as tuple."
   ]
  },
  {
   "attachments": {},
   "cell_type": "markdown",
   "metadata": {},
   "source": [
    "# Question 4\n",
    "def func(a, **kargs):\n",
    "    print(a, kargs)\n",
    "func(a=1, c=3, b=2)\n",
    "\n",
    "output is : 1 {'c'=3,'b'=2}\n",
    "\n",
    "**kwargs specifies that the function can accpet any number of keyword arguments beyond \"a\", this will return the keyword values as Dictionary.\n",
    "\n",
    "1 will be assined to a and c=3,b=2 will be collected to dictionary"
   ]
  },
  {
   "attachments": {},
   "cell_type": "markdown",
   "metadata": {},
   "source": [
    "# Question 5\n",
    "\n",
    "def func(a, b, c=8, d=5): \n",
    "    print(a, b, c, d)\n",
    "func(1, *(5, 6))\n",
    "\n",
    "output : 1,5,6,5\n",
    "\n",
    "* is used to unpack the values of tuple (5,6) and pass them to arguments. a takes 1, b takes 5, c is 6 and d=5 - default value."
   ]
  },
  {
   "attachments": {},
   "cell_type": "markdown",
   "metadata": {},
   "source": [
    "# Question 6\n",
    "\n",
    "def func(a, b, c):\n",
    "a = 2\n",
    "b[0] = 'x'\n",
    "c['a'] = 'Y'\n",
    "l=1; m=[1]; n={'a':0}\n",
    "func(l, m, n)\n",
    "\n",
    "l, m, n\n",
    "\n",
    "output = (1,['X'], {'a' : 'Y'})\n",
    "\n",
    "We have passed the arguments l,m,n to the parameters a,b,c of the function.\n",
    "\n",
    "Now,a is assigned with 2, since it is in the fucntion, it wont effect the outside variable. So l will be 1 itself.\n",
    "\n",
    "Now, list and dictionary are passed by reference. So it will effect the list, dict outside of the fuction too. so, m become \"X\", n becomes {\"a\" : Y\"}\n"
   ]
  }
 ],
 "metadata": {
  "kernelspec": {
   "display_name": "Python 3",
   "language": "python",
   "name": "python3"
  },
  "language_info": {
   "codemirror_mode": {
    "name": "ipython",
    "version": 3
   },
   "file_extension": ".py",
   "mimetype": "text/x-python",
   "name": "python",
   "nbconvert_exporter": "python",
   "pygments_lexer": "ipython3",
   "version": "3.11.1"
  },
  "orig_nbformat": 4,
  "vscode": {
   "interpreter": {
    "hash": "c37f8387768dbf3986146d42fe4d96fc9b384a0da7362fe905d7d4ce093495c8"
   }
  }
 },
 "nbformat": 4,
 "nbformat_minor": 2
}
