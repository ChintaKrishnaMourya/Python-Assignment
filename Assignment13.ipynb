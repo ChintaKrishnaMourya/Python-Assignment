{
 "cells": [
  {
   "attachments": {},
   "cell_type": "markdown",
   "metadata": {},
   "source": [
    "# These are answers to the given questions."
   ]
  },
  {
   "attachments": {},
   "cell_type": "markdown",
   "metadata": {},
   "source": [
    "# Question 1\n",
    "\n",
    "advantages do Excel spreadsheets have over CSV spreadsheets :\n",
    "\n",
    "Excel has good formatting & style options with different font style, colors etc.\n",
    "\n",
    "Excel has inbuit functions, formulae and different kinds of data visualisation like graphs etc."
   ]
  },
  {
   "attachments": {},
   "cell_type": "markdown",
   "metadata": {},
   "source": [
    "# Question 2\n",
    "\n",
    "import csv\n",
    "\n",
    "with open(\"test3.csv\",\"r\") as file:\n",
    "\n",
    "    reader = csv.reader(file)\n",
    "\n",
    "with open(\"test3.csv\",\"w\") as  file:\n",
    "\n",
    "    writer = csv.writer(file)"
   ]
  },
  {
   "attachments": {},
   "cell_type": "markdown",
   "metadata": {},
   "source": [
    "# Question 3\n",
    "\n",
    "For reader object, we have to open in read mode, \"r\" & for writer object, we have to open in write mode, \"w\"."
   ]
  },
  {
   "attachments": {},
   "cell_type": "markdown",
   "metadata": {},
   "source": [
    "# Question 4\n",
    "\n",
    "What method takes a list argument and writes it to a CSV file?\n",
    "\n",
    "When we open the file with csv.writer() with writer as object, we can use this writer.writerows() to write list of data.\n",
    "\n",
    "writerows()."
   ]
  },
  {
   "attachments": {},
   "cell_type": "markdown",
   "metadata": {},
   "source": [
    "# Question 5\n",
    "\n",
    "Delimiter : It is the character that separates the values in each row of csv. Since it is csv, by default it is \",\". We can also give any delimiter of our choice inorder to separate the rows to our convinience.\n",
    "\n",
    "line_terminator : It is the string character that separates the rows in the csv file. Default value is \"\\n\"."
   ]
  },
  {
   "attachments": {},
   "cell_type": "markdown",
   "metadata": {},
   "source": [
    "# Question 6\n",
    "\n",
    "JSON module in python has a function json.loads(). It returns dictionary orlist, list of dictionaries."
   ]
  },
  {
   "attachments": {},
   "cell_type": "markdown",
   "metadata": {},
   "source": [
    "# Question 7\n",
    "\n",
    "json.dumps() function of json module."
   ]
  },
  {
   "cell_type": "code",
   "execution_count": null,
   "metadata": {},
   "outputs": [],
   "source": []
  }
 ],
 "metadata": {
  "language_info": {
   "name": "python"
  },
  "orig_nbformat": 4
 },
 "nbformat": 4,
 "nbformat_minor": 2
}
