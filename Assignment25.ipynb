{
 "cells": [
  {
   "attachments": {},
   "cell_type": "markdown",
   "metadata": {},
   "source": [
    "# These are answers to the given questions."
   ]
  },
  {
   "attachments": {},
   "cell_type": "markdown",
   "metadata": {},
   "source": [
    "# Question 1 \n",
    "\n",
    "The key difference is the type of expression that is returned.\n",
    "\n",
    "list comprehension in [] gives list. & list comprehension in (), it returns a generator expression. generator expression  is memory efficient as it generates thevalue whnever we required the value.\n",
    "\n"
   ]
  },
  {
   "attachments": {},
   "cell_type": "markdown",
   "metadata": {},
   "source": [
    "# Question 2\n",
    "\n",
    "A generator is a typr of iterator that generate values one-by-one,using our function and yield instead of return statement.\n",
    "\n"
   ]
  },
  {
   "attachments": {},
   "cell_type": "markdown",
   "metadata": {},
   "source": [
    "# Question 3\n",
    "\n",
    "A function is generator function when it uses the yield statement. It can contain one or more than yield statments."
   ]
  },
  {
   "attachments": {},
   "cell_type": "markdown",
   "metadata": {},
   "source": [
    "# Question 4\n",
    "\n",
    "yield statment allows you to produce a large sequences of values one by one without storing the values in memeory . It is memort efficient."
   ]
  },
  {
   "attachments": {},
   "cell_type": "markdown",
   "metadata": {},
   "source": [
    "# Question 5\n",
    "\n",
    "Both map calls & list comprehensions are used to produce sequence of values. \n",
    "\n",
    "map() takes function & iterables and returns a map object. \n",
    "\n",
    "we use list(map()) tp get the outcome.\n",
    "\n",
    "List comprehension also behaves like map() , but syntax is different."
   ]
  },
  {
   "cell_type": "code",
   "execution_count": null,
   "metadata": {},
   "outputs": [],
   "source": []
  }
 ],
 "metadata": {
  "language_info": {
   "name": "python"
  },
  "orig_nbformat": 4
 },
 "nbformat": 4,
 "nbformat_minor": 2
}
