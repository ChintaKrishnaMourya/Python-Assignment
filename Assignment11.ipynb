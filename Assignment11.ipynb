{
 "cells": [
  {
   "attachments": {},
   "cell_type": "markdown",
   "metadata": {},
   "source": [
    "# These are answers to the given questions."
   ]
  },
  {
   "attachments": {},
   "cell_type": "markdown",
   "metadata": {},
   "source": [
    "# Question 1\n",
    "\n",
    "assert statement when variable spam is negative\n",
    "\n",
    "spam = -3\n",
    "\n",
    "assert spam >=0, \"Spam is negative integer\""
   ]
  },
  {
   "attachments": {},
   "cell_type": "markdown",
   "metadata": {},
   "source": [
    "# Question 2\n",
    "\n",
    "eggs= 'goodbye'\n",
    "\n",
    "bacon = 'GOODbye'\n",
    "\n",
    "assert eggs.lower() != bacon.lower(), \"Both containing same string\""
   ]
  },
  {
   "cell_type": "code",
   "execution_count": 8,
   "metadata": {},
   "outputs": [
    {
     "ename": "AssertionError",
     "evalue": "Both containing same string",
     "output_type": "error",
     "traceback": [
      "\u001b[1;31m---------------------------------------------------------------------------\u001b[0m",
      "\u001b[1;31mAssertionError\u001b[0m                            Traceback (most recent call last)",
      "Cell \u001b[1;32mIn[8], line 3\u001b[0m\n\u001b[0;32m      1\u001b[0m eggs\u001b[39m=\u001b[39m \u001b[39m'\u001b[39m\u001b[39mgoodbye\u001b[39m\u001b[39m'\u001b[39m\n\u001b[0;32m      2\u001b[0m bacon \u001b[39m=\u001b[39m \u001b[39m'\u001b[39m\u001b[39mGOODbye\u001b[39m\u001b[39m'\u001b[39m\n\u001b[1;32m----> 3\u001b[0m \u001b[39massert\u001b[39;00m eggs\u001b[39m.\u001b[39mlower() \u001b[39m!=\u001b[39m bacon\u001b[39m.\u001b[39mlower(), \u001b[39m\"\u001b[39m\u001b[39mBoth containing same string\u001b[39m\u001b[39m\"\u001b[39m\n",
      "\u001b[1;31mAssertionError\u001b[0m: Both containing same string"
     ]
    }
   ],
   "source": [
    "eggs= 'goodbye'\n",
    "bacon = 'GOODbye'\n",
    "assert eggs.lower() != bacon.lower(), \"Both containing same string\""
   ]
  },
  {
   "attachments": {},
   "cell_type": "markdown",
   "metadata": {},
   "source": [
    "# Question 3\n",
    "\n",
    "Create an assert statement that throws an AssertionError every time.\n",
    "\n",
    "by using the condition that is always False\n",
    "\n",
    "assert False, \"AssertionError everytime\""
   ]
  },
  {
   "attachments": {},
   "cell_type": "markdown",
   "metadata": {},
   "source": [
    "# Question 4\n",
    "What are the two lines that must be present in your software in order to call logging.debug()?\n",
    "\n",
    "import logging as lg\n",
    "\n",
    "lg.basicConfig(level= lg.DEBUG)\n"
   ]
  },
  {
   "attachments": {},
   "cell_type": "markdown",
   "metadata": {},
   "source": [
    "# Question 5\n",
    "\n",
    "What are the two lines that your program must have in order to have logging.debug() send a\n",
    "logging message to a file named programLog.txt?"
   ]
  },
  {
   "cell_type": "code",
   "execution_count": 9,
   "metadata": {},
   "outputs": [],
   "source": [
    "import logging as lg"
   ]
  },
  {
   "cell_type": "code",
   "execution_count": 10,
   "metadata": {},
   "outputs": [],
   "source": [
    "lg.basicConfig(filename=\"programLOG.txt\", level=lg.DEBUG,filemode = \"w\")"
   ]
  },
  {
   "attachments": {},
   "cell_type": "markdown",
   "metadata": {},
   "source": [
    "# Question 6\n",
    "\n",
    "5 levels of logging\n",
    "\n",
    "\"DEBUG\", \"INFO\", \"WARNING\", \"ERROR\", \"CRITICAL\""
   ]
  },
  {
   "attachments": {},
   "cell_type": "markdown",
   "metadata": {},
   "source": [
    "# Question 7\n",
    "\n",
    "logging.disable(logging.CRITICAL)"
   ]
  },
  {
   "attachments": {},
   "cell_type": "markdown",
   "metadata": {},
   "source": [
    "# Question 8\n",
    "8.Why is using logging messages better than using print() to display the same message?\n",
    "\n",
    "\n",
    "Log record that is created by logging event, will contains information such as filename, function, line number of logging event.\n",
    "\n",
    "and, print() is somewhat slow and may affect the performance of our code."
   ]
  },
  {
   "attachments": {},
   "cell_type": "markdown",
   "metadata": {},
   "source": [
    "# Question 9\n",
    "\n",
    "What are the differences between the Step Over, Step In, and Step Out buttons in the debugger?\n",
    "\n",
    "step over teels to execute the next function & break afterwards.\n",
    "\n",
    "step in will cause the debugger to go in the next function call & break there.\n",
    "\n",
    "step out will tell the debugger to finish the current function & break after it."
   ]
  },
  {
   "attachments": {},
   "cell_type": "markdown",
   "metadata": {},
   "source": [
    "# Question 10\n",
    "\n",
    "10.After you click Continue, when will the debugger stop ?\n",
    "\n",
    "After clicking continue, the debugger will stop execution of program after reaching breakpoint\n"
   ]
  },
  {
   "attachments": {},
   "cell_type": "markdown",
   "metadata": {},
   "source": [
    "# Question 11\n",
    "\n",
    "What is the concept of a breakpoint?\n",
    "\n",
    "It is code. Debugger will pause the execution of program & allow us to inspect its state and behavior."
   ]
  }
 ],
 "metadata": {
  "kernelspec": {
   "display_name": "Python 3",
   "language": "python",
   "name": "python3"
  },
  "language_info": {
   "codemirror_mode": {
    "name": "ipython",
    "version": 3
   },
   "file_extension": ".py",
   "mimetype": "text/x-python",
   "name": "python",
   "nbconvert_exporter": "python",
   "pygments_lexer": "ipython3",
   "version": "3.11.1"
  },
  "orig_nbformat": 4,
  "vscode": {
   "interpreter": {
    "hash": "c37f8387768dbf3986146d42fe4d96fc9b384a0da7362fe905d7d4ce093495c8"
   }
  }
 },
 "nbformat": 4,
 "nbformat_minor": 2
}
