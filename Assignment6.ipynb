{
 "cells": [
  {
   "attachments": {},
   "cell_type": "markdown",
   "metadata": {},
   "source": [
    "# These are answers to the given questions."
   ]
  },
  {
   "attachments": {},
   "cell_type": "markdown",
   "metadata": {},
   "source": [
    "# Question 1\n",
    "\n",
    "To insert characters that are illegal in string, Escape character is \\ folllowed by character we want to insert "
   ]
  },
  {
   "attachments": {},
   "cell_type": "markdown",
   "metadata": {},
   "source": [
    "# Question 2\n",
    "\"\\n\" is used to print in next line.\n",
    "\n",
    "\"\\t\" is used to print in next tab"
   ]
  },
  {
   "attachments": {},
   "cell_type": "markdown",
   "metadata": {},
   "source": [
    "# Question 3\n",
    "To include blackslash in the string, we need to use \\\\ escape character"
   ]
  },
  {
   "attachments": {},
   "cell_type": "markdown",
   "metadata": {},
   "source": [
    "# Question 4\n",
    "s =\"Howl's Moving Castle\"\n",
    "\n",
    "we can use ('') in we are keeping string under this using (\"\") quotation marks and vice versa"
   ]
  },
  {
   "attachments": {},
   "cell_type": "markdown",
   "metadata": {},
   "source": [
    "# Question 5\n",
    "\n",
    "we can use  \"\"\" \"\"\" marks to write in newlines without using n character.\n",
    "\n",
    "string = \"\"\"\n",
    "\n",
    "\"\"\"\n"
   ]
  },
  {
   "attachments": {},
   "cell_type": "markdown",
   "metadata": {},
   "source": [
    "# Question 6\n",
    "\n",
    "\"Hello, world!\"[1] = e\n",
    "\n",
    "\"Hello, world![0:5] = Hello\n",
    "\n",
    "\"Hello, world!\"[:5] = Hello\n",
    "\n",
    "\"Hello, world!\"[3:]= \"lo, world!\""
   ]
  },
  {
   "attachments": {},
   "cell_type": "markdown",
   "metadata": {},
   "source": [
    "# Question 7\n",
    "\n",
    "\"Hello\".upper() = \"HELLO\"\n",
    "\n",
    "\"Hello\".upper().isupper() = True\n",
    "\n",
    "\"Hello\".upper().lower() = \"hello\""
   ]
  },
  {
   "attachments": {},
   "cell_type": "markdown",
   "metadata": {},
   "source": [
    "# Question 8\n",
    "\n",
    "\"Remember, remember, the fifth of July.\".split() = [\"Remember\",\"remember\",\"the fifth of July\"]\n",
    "\n",
    "\"-\".join('There can only one.'split()) = \"There-can-only-one\""
   ]
  },
  {
   "attachments": {},
   "cell_type": "markdown",
   "metadata": {},
   "source": [
    "# Question 9\n",
    "\n",
    "string.rjust(), string.ljust(), string.centre()"
   ]
  },
  {
   "attachments": {},
   "cell_type": "markdown",
   "metadata": {},
   "source": [
    "# Question 10\n",
    "\n",
    "string.strip()\n",
    "\n",
    "strip()  removes white space in the front & end of text."
   ]
  }
 ],
 "metadata": {
  "kernelspec": {
   "display_name": "Python 3",
   "language": "python",
   "name": "python3"
  },
  "language_info": {
   "codemirror_mode": {
    "name": "ipython",
    "version": 3
   },
   "file_extension": ".py",
   "mimetype": "text/x-python",
   "name": "python",
   "nbconvert_exporter": "python",
   "pygments_lexer": "ipython3",
   "version": "3.11.1"
  },
  "orig_nbformat": 4,
  "vscode": {
   "interpreter": {
    "hash": "c37f8387768dbf3986146d42fe4d96fc9b384a0da7362fe905d7d4ce093495c8"
   }
  }
 },
 "nbformat": 4,
 "nbformat_minor": 2
}
