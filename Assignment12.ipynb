{
 "cells": [
  {
   "attachments": {},
   "cell_type": "markdown",
   "metadata": {},
   "source": [
    "# These are answers to the given questions."
   ]
  },
  {
   "attachments": {},
   "cell_type": "markdown",
   "metadata": {},
   "source": [
    "# Question 1\n",
    "\n",
    "PdfFileReader() and PdfFileWriter() File objects will be opened in binary mode."
   ]
  },
  {
   "attachments": {},
   "cell_type": "markdown",
   "metadata": {},
   "source": [
    "# Question 2\n",
    "\n",
    "when we are trying to read pdf, we can use getPage(5) to grt a page object from page 5"
   ]
  },
  {
   "attachments": {},
   "cell_type": "markdown",
   "metadata": {},
   "source": [
    "# Question 3\n",
    "\n",
    "Number of pages in the pdf can be stored by using \"numPages\"  attribute of the pdfFileReader variable.\n"
   ]
  },
  {
   "attachments": {},
   "cell_type": "markdown",
   "metadata": {},
   "source": [
    "# Question 4\n",
    "Inorder to object page objects if it is encrypted with password, we have to decrypt it by using decrypt() method."
   ]
  },
  {
   "attachments": {},
   "cell_type": "markdown",
   "metadata": {},
   "source": [
    "# Question 5\n",
    "\n",
    "to rotate the page , we can use rotateClockwise() & rotatecounterClockwise() methods."
   ]
  },
  {
   "attachments": {},
   "cell_type": "markdown",
   "metadata": {},
   "source": [
    "# Question 6\n",
    "\n",
    "Run object represents the string with the same formatting within the paragraph.\n",
    "\n",
    "Paragraph object represents a paragraph, that contain multiple runs with different formatting."
   ]
  },
  {
   "attachments": {},
   "cell_type": "markdown",
   "metadata": {},
   "source": [
    "# Question 7\n",
    "\n",
    "To obtain a list of Paragraph objects for a document object that is stored in a variable named doc :\n",
    "\n",
    "we can use \"doc.paragraphs\". "
   ]
  },
  {
   "attachments": {},
   "cell_type": "markdown",
   "metadata": {},
   "source": [
    "# Question 8\n",
    "\n",
    "Run object has bold, underline, italic, strike, outline variables."
   ]
  },
  {
   "attachments": {},
   "cell_type": "markdown",
   "metadata": {},
   "source": [
    "# Question 9\n",
    "\n",
    "For \"bold\" variable,\n",
    "\n",
    "False means text is not bold ; True means it is bold ; None means value for bold is not set."
   ]
  },
  {
   "attachments": {},
   "cell_type": "markdown",
   "metadata": {},
   "source": [
    "# Question 10\n",
    "\n",
    "To create a Document object for a new Word document\n",
    "\n",
    "we can use \"Document\" class from the python-docx.\n",
    "\n",
    "from docx import document\n",
    "\n",
    "doc = Document()"
   ]
  },
  {
   "attachments": {},
   "cell_type": "markdown",
   "metadata": {},
   "source": [
    "# Question 11\n",
    "\n",
    "To add a paragraph with the text \"Hello, there!\" to a Document object stored in a variable named doc, we can use \"add_paragraph()\" method.\n",
    "\n",
    "from docx import Document\n",
    "\n",
    "doc = Document()\n",
    "\n",
    "paragraph = doc.add_paragraph(\"Hello, there!)\n",
    "\n"
   ]
  },
  {
   "attachments": {},
   "cell_type": "markdown",
   "metadata": {},
   "source": [
    "# Question 12\n",
    "\n",
    "What integers represent the levels of headings available in Word documents?\n",
    "\n",
    "Level of heading available in word document using python-docx library : 1 to 9"
   ]
  },
  {
   "cell_type": "code",
   "execution_count": null,
   "metadata": {},
   "outputs": [],
   "source": [
    "\n",
    "\n"
   ]
  }
 ],
 "metadata": {
  "language_info": {
   "name": "python"
  },
  "orig_nbformat": 4
 },
 "nbformat": 4,
 "nbformat_minor": 2
}
