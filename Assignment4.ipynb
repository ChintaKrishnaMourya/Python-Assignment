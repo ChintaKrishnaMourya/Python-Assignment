{
 "cells": [
  {
   "attachments": {},
   "cell_type": "markdown",
   "metadata": {},
   "source": [
    "# These are answers to the given questions."
   ]
  },
  {
   "attachments": {},
   "cell_type": "markdown",
   "metadata": {},
   "source": [
    "# Question 1\n",
    "\n",
    "[] represents an empty list. We can use it append values while running the code."
   ]
  },
  {
   "attachments": {},
   "cell_type": "markdown",
   "metadata": {},
   "source": [
    "# Question 2\n",
    "\n",
    "spam = [2,4,6,8,10]\n",
    "\n",
    "spam[2]= 'hello'"
   ]
  },
  {
   "attachments": {},
   "cell_type": "markdown",
   "metadata": {},
   "source": [
    "# Question 3\n",
    "spam =[\"a\",\"b\",\"c\",\"d\"]\n",
    "spam[int(int(\"3\" * 2) / 11)]\n",
    "\n",
    "gives \"d\"\n"
   ]
  },
  {
   "attachments": {},
   "cell_type": "markdown",
   "metadata": {},
   "source": [
    "# Question 4\n",
    "\n",
    "spam[-1] = d"
   ]
  },
  {
   "attachments": {},
   "cell_type": "markdown",
   "metadata": {},
   "source": [
    "# Question 5\n",
    "spam[:2] = []'a','b']"
   ]
  },
  {
   "attachments": {},
   "cell_type": "markdown",
   "metadata": {},
   "source": [
    "# Question 6\n",
    "bacon = [3.14,\"cat\",11,\"cat\",True]\n",
    "bacon.index(\"cat\")= 1"
   ]
  },
  {
   "attachments": {},
   "cell_type": "markdown",
   "metadata": {},
   "source": [
    "# Question 7\n",
    " bacon.append(99) will append 99 to the last index of the list. It looks like\n",
    "\n",
    " [3.14.\"cat\",11,\"cat\",True, 99]"
   ]
  },
  {
   "attachments": {},
   "cell_type": "markdown",
   "metadata": {},
   "source": [
    "# Question 8\n",
    " bacon.remove(\"cat\") will remove the first occurence of cat in the list.\n",
    "\n",
    " [3.13,11,'cat',True]\n"
   ]
  },
  {
   "attachments": {},
   "cell_type": "markdown",
   "metadata": {},
   "source": [
    "# Question 9\n",
    "\n",
    "List concatenation can be done by using \"+\" and replication can be done using \"*\""
   ]
  },
  {
   "attachments": {},
   "cell_type": "markdown",
   "metadata": {},
   "source": [
    "# Question 10\n",
    "\n",
    "List methods - append() is used to append an element to the last index of the list.\n",
    "list = [1,2,3,4]\n",
    "\n",
    "list.append(5) = [1,2,3,4,5]\n",
    "\n",
    "insert() is used to insert a value in a chosen index. \n",
    "\n",
    "list.insert(2,5)= [1,2,5,3,4]"
   ]
  },
  {
   "attachments": {},
   "cell_type": "markdown",
   "metadata": {},
   "source": [
    "# Question 11\n",
    "we can reomve items from list using clear() and remove()"
   ]
  },
  {
   "attachments": {},
   "cell_type": "markdown",
   "metadata": {},
   "source": [
    "# Question 12\n",
    "Lists and strings are similar in that, they are both ordered. We can access them by slicing, indexing. "
   ]
  },
  {
   "attachments": {},
   "cell_type": "markdown",
   "metadata": {},
   "source": [
    "# Question 13\n",
    "Tuples and lists are 2 data types. Theyt both are indexed, ordered. But lists are mutable amd tuples are immutable.\n",
    "\n",
    "list= [1,3,5,7]\n",
    "\n",
    "tuple = (1,3,5,7)"
   ]
  },
  {
   "attachments": {},
   "cell_type": "markdown",
   "metadata": {},
   "source": [
    "# Question 14\n",
    "\n",
    "tuploe_with_single_value = (42,)"
   ]
  },
  {
   "attachments": {},
   "cell_type": "markdown",
   "metadata": {},
   "source": [
    "# Question 15\n",
    "\n",
    " l = tuple([1,2,3,4]) = (1,2,3,4)\n",
    "\n",
    " t = list((5,6,7,8)) = [1,2,3,4]\n",
    " \n",
    " by using list(),tuple() to convert to list & tuple."
   ]
  },
  {
   "attachments": {},
   "cell_type": "markdown",
   "metadata": {},
   "source": [
    "# Question 16\n",
    " Variables that contain list are not lists themselves. Python stores a reference to the list in memory rather than copying the entire list inti variable.\n"
   ]
  },
  {
   "attachments": {},
   "cell_type": "markdown",
   "metadata": {},
   "source": [
    "# Question 17\n",
    "copy.copy() = it gives the copy of original list, but it is only a shallow copy. If we change the item in copy list, it will change in original list too.\n",
    "\n",
    "copy.deepcopy() = if we change item in copied list, it will not item in the original list."
   ]
  }
 ],
 "metadata": {
  "kernelspec": {
   "display_name": "Python 3",
   "language": "python",
   "name": "python3"
  },
  "language_info": {
   "codemirror_mode": {
    "name": "ipython",
    "version": 3
   },
   "file_extension": ".py",
   "mimetype": "text/x-python",
   "name": "python",
   "nbconvert_exporter": "python",
   "pygments_lexer": "ipython3",
   "version": "3.11.1"
  },
  "orig_nbformat": 4,
  "vscode": {
   "interpreter": {
    "hash": "c37f8387768dbf3986146d42fe4d96fc9b384a0da7362fe905d7d4ce093495c8"
   }
  }
 },
 "nbformat": 4,
 "nbformat_minor": 2
}
